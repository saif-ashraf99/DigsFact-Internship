{
  "nbformat": 4,
  "nbformat_minor": 0,
  "metadata": {
    "colab": {
      "provenance": []
    },
    "kernelspec": {
      "name": "python3",
      "display_name": "Python 3"
    },
    "language_info": {
      "name": "python"
    }
  },
  "cells": [
    {
      "cell_type": "markdown",
      "metadata": {
        "id": "WLWB3x9daWl3"
      },
      "source": [
        "# Exercise solutions"
      ]
    },
    {
      "cell_type": "markdown",
      "metadata": {
        "id": "gkMaWiMyaWl3"
      },
      "source": [
        "## 1."
      ]
    },
    {
      "cell_type": "markdown",
      "metadata": {
        "id": "ODeJJ-KFaWl3"
      },
      "source": [
        "Question: Try a Support Vector Machine regressor (`sklearn.svm.SVR`), with various hyperparameters such as `kernel=\"linear\"` (with various values for the `C` hyperparameter) or `kernel=\"rbf\"` (with various values for the `C` and `gamma` hyperparameters). Don't worry about what these hyperparameters mean for now. How does the best `SVR` predictor perform?"
      ]
    },
    {
      "cell_type": "code",
      "execution_count": null,
      "metadata": {
        "id": "YjzWk24waWl3",
        "outputId": "d1ff0e5f-fc2e-4de0-8654-b2dba11dbbbc"
      },
      "outputs": [
        {
          "name": "stdout",
          "output_type": "stream",
          "text": [
            "Fitting 5 folds for each of 50 candidates, totalling 250 fits\n",
            "[CV] C=10.0, kernel=linear ...........................................\n"
          ]
        },
        {
          "name": "stderr",
          "output_type": "stream",
          "text": [
            "[Parallel(n_jobs=1)]: Using backend SequentialBackend with 1 concurrent workers.\n"
          ]
        },
        {
          "name": "stdout",
          "output_type": "stream",
          "text": [
            "[CV] ............................ C=10.0, kernel=linear, total=   3.9s\n",
            "[CV] C=10.0, kernel=linear ...........................................\n"
          ]
        },
        {
          "name": "stderr",
          "output_type": "stream",
          "text": [
            "[Parallel(n_jobs=1)]: Done   1 out of   1 | elapsed:    3.9s remaining:    0.0s\n"
          ]
        },
        {
          "name": "stdout",
          "output_type": "stream",
          "text": [
            "[CV] ............................ C=10.0, kernel=linear, total=   3.9s\n",
            "[CV] C=10.0, kernel=linear ...........................................\n",
            "[CV] ............................ C=10.0, kernel=linear, total=   4.6s\n",
            "[CV] C=10.0, kernel=linear ...........................................\n",
            "[CV] ............................ C=10.0, kernel=linear, total=   4.2s\n",
            "[CV] C=10.0, kernel=linear ...........................................\n",
            "[CV] ............................ C=10.0, kernel=linear, total=   4.5s\n",
            "[CV] C=30.0, kernel=linear ...........................................\n",
            "[CV] ............................ C=30.0, kernel=linear, total=   4.1s\n",
            "[CV] C=30.0, kernel=linear ...........................................\n",
            "[CV] ............................ C=30.0, kernel=linear, total=   4.2s\n",
            "[CV] C=30.0, kernel=linear ...........................................\n",
            "[CV] ............................ C=30.0, kernel=linear, total=   4.3s\n",
            "[CV] C=30.0, kernel=linear ...........................................\n",
            "[CV] ............................ C=30.0, kernel=linear, total=   4.0s\n",
            "[CV] C=30.0, kernel=linear ...........................................\n",
            "[CV] ............................ C=30.0, kernel=linear, total=   3.9s\n",
            "[CV] C=100.0, kernel=linear ..........................................\n",
            "[CV] ........................... C=100.0, kernel=linear, total=   3.9s\n",
            "[CV] C=100.0, kernel=linear ..........................................\n",
            "[CV] ........................... C=100.0, kernel=linear, total=   4.0s\n",
            "[CV] C=100.0, kernel=linear ..........................................\n",
            "[CV] ........................... C=100.0, kernel=linear, total=   4.0s\n",
            "[CV] C=100.0, kernel=linear ..........................................\n",
            "[CV] ........................... C=100.0, kernel=linear, total=   4.0s\n",
            "[CV] C=100.0, kernel=linear ..........................................\n",
            "[CV] ........................... C=100.0, kernel=linear, total=   3.9s\n",
            "[CV] C=300.0, kernel=linear ..........................................\n",
            "[CV] ........................... C=300.0, kernel=linear, total=   4.1s\n",
            "<<434 more lines>>\n",
            "[CV] C=1000.0, gamma=0.1, kernel=rbf .................................\n",
            "[CV] .................. C=1000.0, gamma=0.1, kernel=rbf, total=   6.7s\n",
            "[CV] C=1000.0, gamma=0.1, kernel=rbf .................................\n",
            "[CV] .................. C=1000.0, gamma=0.1, kernel=rbf, total=   6.8s\n",
            "[CV] C=1000.0, gamma=0.3, kernel=rbf .................................\n",
            "[CV] .................. C=1000.0, gamma=0.3, kernel=rbf, total=   6.7s\n",
            "[CV] C=1000.0, gamma=0.3, kernel=rbf .................................\n",
            "[CV] .................. C=1000.0, gamma=0.3, kernel=rbf, total=   6.7s\n",
            "[CV] C=1000.0, gamma=0.3, kernel=rbf .................................\n",
            "[CV] .................. C=1000.0, gamma=0.3, kernel=rbf, total=   6.7s\n",
            "[CV] C=1000.0, gamma=0.3, kernel=rbf .................................\n",
            "[CV] .................. C=1000.0, gamma=0.3, kernel=rbf, total=   6.7s\n",
            "[CV] C=1000.0, gamma=0.3, kernel=rbf .................................\n",
            "[CV] .................. C=1000.0, gamma=0.3, kernel=rbf, total=   6.7s\n",
            "[CV] C=1000.0, gamma=1.0, kernel=rbf .................................\n",
            "[CV] .................. C=1000.0, gamma=1.0, kernel=rbf, total=   6.7s\n",
            "[CV] C=1000.0, gamma=1.0, kernel=rbf .................................\n",
            "[CV] .................. C=1000.0, gamma=1.0, kernel=rbf, total=   6.8s\n",
            "[CV] C=1000.0, gamma=1.0, kernel=rbf .................................\n",
            "[CV] .................. C=1000.0, gamma=1.0, kernel=rbf, total=   6.7s\n",
            "[CV] C=1000.0, gamma=1.0, kernel=rbf .................................\n",
            "[CV] .................. C=1000.0, gamma=1.0, kernel=rbf, total=   6.7s\n",
            "[CV] C=1000.0, gamma=1.0, kernel=rbf .................................\n",
            "[CV] .................. C=1000.0, gamma=1.0, kernel=rbf, total=   6.7s\n",
            "[CV] C=1000.0, gamma=3.0, kernel=rbf .................................\n",
            "[CV] .................. C=1000.0, gamma=3.0, kernel=rbf, total=   7.4s\n",
            "[CV] C=1000.0, gamma=3.0, kernel=rbf .................................\n",
            "[CV] .................. C=1000.0, gamma=3.0, kernel=rbf, total=   7.4s\n",
            "[CV] C=1000.0, gamma=3.0, kernel=rbf .................................\n",
            "[CV] .................. C=1000.0, gamma=3.0, kernel=rbf, total=   7.4s\n",
            "[CV] C=1000.0, gamma=3.0, kernel=rbf .................................\n",
            "[CV] .................. C=1000.0, gamma=3.0, kernel=rbf, total=   7.4s\n",
            "[CV] C=1000.0, gamma=3.0, kernel=rbf .................................\n",
            "[CV] .................. C=1000.0, gamma=3.0, kernel=rbf, total=   7.3s\n"
          ]
        },
        {
          "name": "stderr",
          "output_type": "stream",
          "text": [
            "[Parallel(n_jobs=1)]: Done 250 out of 250 | elapsed: 26.4min finished\n"
          ]
        },
        {
          "data": {
            "text/plain": [
              "GridSearchCV(cv=5, estimator=SVR(),\n",
              "             param_grid=[{'C': [10.0, 30.0, 100.0, 300.0, 1000.0, 3000.0,\n",
              "                                10000.0, 30000.0],\n",
              "                          'kernel': ['linear']},\n",
              "                         {'C': [1.0, 3.0, 10.0, 30.0, 100.0, 300.0, 1000.0],\n",
              "                          'gamma': [0.01, 0.03, 0.1, 0.3, 1.0, 3.0],\n",
              "                          'kernel': ['rbf']}],\n",
              "             scoring='neg_mean_squared_error', verbose=2)"
            ]
          },
          "execution_count": 117,
          "metadata": {},
          "output_type": "execute_result"
        }
      ],
      "source": [
        "from sklearn.model_selection import GridSearchCV\n",
        "\n",
        "param_grid = [\n",
        "        {'kernel': ['linear'], 'C': [10., 30., 100., 300., 1000., 3000., 10000., 30000.0]},\n",
        "        {'kernel': ['rbf'], 'C': [1.0, 3.0, 10., 30., 100., 300., 1000.0],\n",
        "         'gamma': [0.01, 0.03, 0.1, 0.3, 1.0, 3.0]},\n",
        "    ]\n",
        "\n",
        "svm_reg = SVR()\n",
        "grid_search = GridSearchCV(svm_reg, param_grid, cv=5, scoring='neg_mean_squared_error', verbose=2)\n",
        "grid_search.fit(housing_prepared, housing_labels)"
      ]
    },
    {
      "cell_type": "markdown",
      "metadata": {
        "id": "JTZxjy6EaWl4"
      },
      "source": [
        "The best model achieves the following score (evaluated using 5-fold cross validation):"
      ]
    },
    {
      "cell_type": "code",
      "execution_count": null,
      "metadata": {
        "id": "dxrWZka4aWl4",
        "outputId": "b3ab439c-e0ab-4e75-901f-0b758e8ffb22"
      },
      "outputs": [
        {
          "data": {
            "text/plain": [
              "70363.84006944533"
            ]
          },
          "execution_count": 118,
          "metadata": {},
          "output_type": "execute_result"
        }
      ],
      "source": [
        "negative_mse = grid_search.best_score_\n",
        "rmse = np.sqrt(-negative_mse)\n",
        "rmse"
      ]
    },
    {
      "cell_type": "markdown",
      "metadata": {
        "id": "unqNJIDiaWl4"
      },
      "source": [
        "That's much worse than the `RandomForestRegressor`. Let's check the best hyperparameters found:"
      ]
    },
    {
      "cell_type": "code",
      "execution_count": null,
      "metadata": {
        "id": "5y1-DHxQaWl4",
        "outputId": "ed40fdd1-111f-4b72-f55a-14305df21d11"
      },
      "outputs": [
        {
          "data": {
            "text/plain": [
              "{'C': 30000.0, 'kernel': 'linear'}"
            ]
          },
          "execution_count": 119,
          "metadata": {},
          "output_type": "execute_result"
        }
      ],
      "source": [
        "grid_search.best_params_"
      ]
    },
    {
      "cell_type": "markdown",
      "metadata": {
        "id": "er1sVc7RaWl4"
      },
      "source": [
        "The linear kernel seems better than the RBF kernel. Notice that the value of `C` is the maximum tested value. When this happens you definitely want to launch the grid search again with higher values for `C` (removing the smallest values), because it is likely that higher values of `C` will be better."
      ]
    },
    {
      "cell_type": "markdown",
      "metadata": {
        "id": "5C9sC4p_aWl4"
      },
      "source": [
        "## 2."
      ]
    },
    {
      "cell_type": "markdown",
      "metadata": {
        "id": "hdee4UfjaWl4"
      },
      "source": [
        "Question: Try replacing `GridSearchCV` with `RandomizedSearchCV`."
      ]
    },
    {
      "cell_type": "code",
      "execution_count": null,
      "metadata": {
        "id": "pu2imUMfaWl5",
        "outputId": "31311fd0-555c-48f2-d302-5fc5345cd9d5"
      },
      "outputs": [
        {
          "name": "stdout",
          "output_type": "stream",
          "text": [
            "Fitting 5 folds for each of 50 candidates, totalling 250 fits\n",
            "[CV] C=629.782329591372, gamma=3.010121430917521, kernel=linear ......\n"
          ]
        },
        {
          "name": "stderr",
          "output_type": "stream",
          "text": [
            "[Parallel(n_jobs=1)]: Using backend SequentialBackend with 1 concurrent workers.\n"
          ]
        },
        {
          "name": "stdout",
          "output_type": "stream",
          "text": [
            "[CV]  C=629.782329591372, gamma=3.010121430917521, kernel=linear, total=   4.2s\n",
            "[CV] C=629.782329591372, gamma=3.010121430917521, kernel=linear ......\n"
          ]
        },
        {
          "name": "stderr",
          "output_type": "stream",
          "text": [
            "[Parallel(n_jobs=1)]: Done   1 out of   1 | elapsed:    4.2s remaining:    0.0s\n"
          ]
        },
        {
          "name": "stdout",
          "output_type": "stream",
          "text": [
            "[CV]  C=629.782329591372, gamma=3.010121430917521, kernel=linear, total=   4.0s\n",
            "[CV] C=629.782329591372, gamma=3.010121430917521, kernel=linear ......\n",
            "[CV]  C=629.782329591372, gamma=3.010121430917521, kernel=linear, total=   4.5s\n",
            "[CV] C=629.782329591372, gamma=3.010121430917521, kernel=linear ......\n",
            "[CV]  C=629.782329591372, gamma=3.010121430917521, kernel=linear, total=   4.5s\n",
            "[CV] C=629.782329591372, gamma=3.010121430917521, kernel=linear ......\n",
            "[CV]  C=629.782329591372, gamma=3.010121430917521, kernel=linear, total=   4.3s\n",
            "[CV] C=26290.206464300216, gamma=0.9084469696321253, kernel=rbf ......\n",
            "[CV]  C=26290.206464300216, gamma=0.9084469696321253, kernel=rbf, total=   8.6s\n",
            "[CV] C=26290.206464300216, gamma=0.9084469696321253, kernel=rbf ......\n",
            "[CV]  C=26290.206464300216, gamma=0.9084469696321253, kernel=rbf, total=   9.1s\n",
            "[CV] C=26290.206464300216, gamma=0.9084469696321253, kernel=rbf ......\n",
            "[CV]  C=26290.206464300216, gamma=0.9084469696321253, kernel=rbf, total=   8.8s\n",
            "[CV] C=26290.206464300216, gamma=0.9084469696321253, kernel=rbf ......\n",
            "[CV]  C=26290.206464300216, gamma=0.9084469696321253, kernel=rbf, total=   8.9s\n",
            "[CV] C=26290.206464300216, gamma=0.9084469696321253, kernel=rbf ......\n",
            "[CV]  C=26290.206464300216, gamma=0.9084469696321253, kernel=rbf, total=   9.0s\n",
            "[CV] C=84.14107900575871, gamma=0.059838768608680676, kernel=rbf .....\n",
            "[CV]  C=84.14107900575871, gamma=0.059838768608680676, kernel=rbf, total=   7.0s\n",
            "[CV] C=84.14107900575871, gamma=0.059838768608680676, kernel=rbf .....\n",
            "[CV]  C=84.14107900575871, gamma=0.059838768608680676, kernel=rbf, total=   7.0s\n",
            "[CV] C=84.14107900575871, gamma=0.059838768608680676, kernel=rbf .....\n",
            "[CV]  C=84.14107900575871, gamma=0.059838768608680676, kernel=rbf, total=   6.9s\n",
            "[CV] C=84.14107900575871, gamma=0.059838768608680676, kernel=rbf .....\n",
            "[CV]  C=84.14107900575871, gamma=0.059838768608680676, kernel=rbf, total=   7.0s\n",
            "[CV] C=84.14107900575871, gamma=0.059838768608680676, kernel=rbf .....\n",
            "[CV]  C=84.14107900575871, gamma=0.059838768608680676, kernel=rbf, total=   7.0s\n",
            "[CV] C=432.37884813148855, gamma=0.15416196746656105, kernel=linear ..\n",
            "[CV]  C=432.37884813148855, gamma=0.15416196746656105, kernel=linear, total=   4.6s\n",
            "<<434 more lines>>\n",
            "[CV] C=61217.04421344494, gamma=1.6279689407405564, kernel=rbf .......\n",
            "[CV]  C=61217.04421344494, gamma=1.6279689407405564, kernel=rbf, total=  25.2s\n",
            "[CV] C=61217.04421344494, gamma=1.6279689407405564, kernel=rbf .......\n",
            "[CV]  C=61217.04421344494, gamma=1.6279689407405564, kernel=rbf, total=  23.2s\n",
            "[CV] C=926.9787684096649, gamma=2.147979593060577, kernel=rbf ........\n",
            "[CV]  C=926.9787684096649, gamma=2.147979593060577, kernel=rbf, total=   5.7s\n",
            "[CV] C=926.9787684096649, gamma=2.147979593060577, kernel=rbf ........\n",
            "[CV]  C=926.9787684096649, gamma=2.147979593060577, kernel=rbf, total=   5.7s\n",
            "[CV] C=926.9787684096649, gamma=2.147979593060577, kernel=rbf ........\n",
            "[CV]  C=926.9787684096649, gamma=2.147979593060577, kernel=rbf, total=   5.7s\n",
            "[CV] C=926.9787684096649, gamma=2.147979593060577, kernel=rbf ........\n",
            "[CV]  C=926.9787684096649, gamma=2.147979593060577, kernel=rbf, total=   5.8s\n",
            "[CV] C=926.9787684096649, gamma=2.147979593060577, kernel=rbf ........\n",
            "[CV]  C=926.9787684096649, gamma=2.147979593060577, kernel=rbf, total=   5.6s\n",
            "[CV] C=33946.157064934, gamma=2.2642426492862313, kernel=linear ......\n",
            "[CV]  C=33946.157064934, gamma=2.2642426492862313, kernel=linear, total=  10.0s\n",
            "[CV] C=33946.157064934, gamma=2.2642426492862313, kernel=linear ......\n",
            "[CV]  C=33946.157064934, gamma=2.2642426492862313, kernel=linear, total=   9.7s\n",
            "[CV] C=33946.157064934, gamma=2.2642426492862313, kernel=linear ......\n",
            "[CV]  C=33946.157064934, gamma=2.2642426492862313, kernel=linear, total=   8.9s\n",
            "[CV] C=33946.157064934, gamma=2.2642426492862313, kernel=linear ......\n",
            "[CV]  C=33946.157064934, gamma=2.2642426492862313, kernel=linear, total=  10.4s\n",
            "[CV] C=33946.157064934, gamma=2.2642426492862313, kernel=linear ......\n",
            "[CV]  C=33946.157064934, gamma=2.2642426492862313, kernel=linear, total=   9.3s\n",
            "[CV] C=84789.82947739525, gamma=0.3176359085304841, kernel=linear ....\n",
            "[CV]  C=84789.82947739525, gamma=0.3176359085304841, kernel=linear, total=  25.8s\n",
            "[CV] C=84789.82947739525, gamma=0.3176359085304841, kernel=linear ....\n",
            "[CV]  C=84789.82947739525, gamma=0.3176359085304841, kernel=linear, total=  18.5s\n",
            "[CV] C=84789.82947739525, gamma=0.3176359085304841, kernel=linear ....\n",
            "[CV]  C=84789.82947739525, gamma=0.3176359085304841, kernel=linear, total=  28.3s\n",
            "[CV] C=84789.82947739525, gamma=0.3176359085304841, kernel=linear ....\n",
            "[CV]  C=84789.82947739525, gamma=0.3176359085304841, kernel=linear, total=  20.8s\n",
            "[CV] C=84789.82947739525, gamma=0.3176359085304841, kernel=linear ....\n",
            "[CV]  C=84789.82947739525, gamma=0.3176359085304841, kernel=linear, total=  15.6s\n"
          ]
        },
        {
          "name": "stderr",
          "output_type": "stream",
          "text": [
            "[Parallel(n_jobs=1)]: Done 250 out of 250 | elapsed: 44.0min finished\n"
          ]
        },
        {
          "data": {
            "text/plain": [
              "RandomizedSearchCV(cv=5, estimator=SVR(), n_iter=50,\n",
              "                   param_distributions={'C': <scipy.stats._distn_infrastructure.rv_frozen object at 0x7f9bd002c790>,\n",
              "                                        'gamma': <scipy.stats._distn_infrastructure.rv_frozen object at 0x7f9bd002cb10>,\n",
              "                                        'kernel': ['linear', 'rbf']},\n",
              "                   random_state=42, scoring='neg_mean_squared_error',\n",
              "                   verbose=2)"
            ]
          },
          "execution_count": 120,
          "metadata": {},
          "output_type": "execute_result"
        }
      ],
      "source": [
        "from sklearn.model_selection import RandomizedSearchCV\n",
        "from scipy.stats import expon, reciprocal\n",
        "\n",
        "# Note: gamma is ignored when kernel is \"linear\"\n",
        "param_distribs = {\n",
        "        'kernel': ['linear', 'rbf'],\n",
        "        'C': reciprocal(20, 200000),\n",
        "        'gamma': expon(scale=1.0),\n",
        "    }\n",
        "\n",
        "svm_reg = SVR()\n",
        "rnd_search = RandomizedSearchCV(svm_reg, param_distributions=param_distribs,\n",
        "                                n_iter=50, cv=5, scoring='neg_mean_squared_error',\n",
        "                                verbose=2, random_state=42)\n",
        "rnd_search.fit(housing_prepared, housing_labels)"
      ]
    },
    {
      "cell_type": "markdown",
      "metadata": {
        "id": "-sKDYl1KaWl5"
      },
      "source": [
        "The best model achieves the following score (evaluated using 5-fold cross validation):"
      ]
    },
    {
      "cell_type": "code",
      "execution_count": null,
      "metadata": {
        "id": "btOM1YqwaWl5",
        "outputId": "a8cb2b7e-eed4-48c1-f3a1-4689d6cb73fc"
      },
      "outputs": [
        {
          "data": {
            "text/plain": [
              "54767.960710084146"
            ]
          },
          "execution_count": 121,
          "metadata": {},
          "output_type": "execute_result"
        }
      ],
      "source": [
        "negative_mse = rnd_search.best_score_\n",
        "rmse = np.sqrt(-negative_mse)\n",
        "rmse"
      ]
    },
    {
      "cell_type": "markdown",
      "metadata": {
        "id": "OV5Yj4--aWl5"
      },
      "source": [
        "Now this is much closer to the performance of the `RandomForestRegressor` (but not quite there yet). Let's check the best hyperparameters found:"
      ]
    },
    {
      "cell_type": "code",
      "execution_count": null,
      "metadata": {
        "id": "itx_ocOnaWl5",
        "outputId": "f998d863-a6b9-4add-cf69-4ed123471235"
      },
      "outputs": [
        {
          "data": {
            "text/plain": [
              "{'C': 157055.10989448498, 'gamma': 0.26497040005002437, 'kernel': 'rbf'}"
            ]
          },
          "execution_count": 122,
          "metadata": {},
          "output_type": "execute_result"
        }
      ],
      "source": [
        "rnd_search.best_params_"
      ]
    },
    {
      "cell_type": "markdown",
      "metadata": {
        "id": "BbhXyfUeaWl5"
      },
      "source": [
        "This time the search found a good set of hyperparameters for the RBF kernel. Randomized search tends to find better hyperparameters than grid search in the same amount of time."
      ]
    },
    {
      "cell_type": "markdown",
      "metadata": {
        "id": "gV6DN_jIaWl6"
      },
      "source": [
        "## 3."
      ]
    },
    {
      "cell_type": "markdown",
      "metadata": {
        "id": "C5mKHjZ-aWl6"
      },
      "source": [
        "Question: Try adding a transformer in the preparation pipeline to select only the most important attributes."
      ]
    },
    {
      "cell_type": "code",
      "execution_count": null,
      "metadata": {
        "id": "1yCK4z6uaWl6"
      },
      "outputs": [],
      "source": [
        "from sklearn.base import BaseEstimator, TransformerMixin\n",
        "\n",
        "def indices_of_top_k(arr, k):\n",
        "    return np.sort(np.argpartition(np.array(arr), -k)[-k:])\n",
        "\n",
        "class TopFeatureSelector(BaseEstimator, TransformerMixin):\n",
        "    def __init__(self, feature_importances, k):\n",
        "        self.feature_importances = feature_importances\n",
        "        self.k = k\n",
        "    def fit(self, X, y=None):\n",
        "        self.feature_indices_ = indices_of_top_k(self.feature_importances, self.k)\n",
        "        return self\n",
        "    def transform(self, X):\n",
        "        return X[:, self.feature_indices_]"
      ]
    },
    {
      "cell_type": "markdown",
      "metadata": {
        "id": "J2eCCq23aWl6"
      },
      "source": [
        "Note: this feature selector assumes that you have already computed the feature importances somehow (for example using a `RandomForestRegressor`). You may be tempted to compute them directly in the `TopFeatureSelector`'s `fit()` method, however this would likely slow down grid/randomized search since the feature importances would have to be computed for every hyperparameter combination (unless you implement some sort of cache)."
      ]
    },
    {
      "cell_type": "markdown",
      "metadata": {
        "id": "IbT9QFt4aWl6"
      },
      "source": [
        "Let's define the number of top features we want to keep:"
      ]
    },
    {
      "cell_type": "code",
      "execution_count": null,
      "metadata": {
        "id": "GYaQRHRGaWl7"
      },
      "outputs": [],
      "source": [
        "k = 5"
      ]
    },
    {
      "cell_type": "markdown",
      "metadata": {
        "id": "T50s1bSKaWl7"
      },
      "source": [
        "Now let's look for the indices of the top k features:"
      ]
    },
    {
      "cell_type": "code",
      "execution_count": null,
      "metadata": {
        "id": "69e04HMaaWl7",
        "outputId": "29b48bdf-cf8d-4775-f5b3-b20cc925c6eb"
      },
      "outputs": [
        {
          "data": {
            "text/plain": [
              "array([ 0,  1,  7,  9, 12])"
            ]
          },
          "execution_count": 127,
          "metadata": {},
          "output_type": "execute_result"
        }
      ],
      "source": [
        "top_k_feature_indices = indices_of_top_k(feature_importances, k)\n",
        "top_k_feature_indices"
      ]
    },
    {
      "cell_type": "code",
      "execution_count": null,
      "metadata": {
        "id": "AzgIad0oaWl7",
        "outputId": "90b0bc21-4b61-43e1-afc2-4199f0327727"
      },
      "outputs": [
        {
          "data": {
            "text/plain": [
              "array(['longitude', 'latitude', 'median_income', 'pop_per_hhold',\n",
              "       'INLAND'], dtype='<U18')"
            ]
          },
          "execution_count": 128,
          "metadata": {},
          "output_type": "execute_result"
        }
      ],
      "source": [
        "np.array(attributes)[top_k_feature_indices]"
      ]
    },
    {
      "cell_type": "markdown",
      "metadata": {
        "id": "FGDS69iSaWl7"
      },
      "source": [
        "Let's double check that these are indeed the top k features:"
      ]
    },
    {
      "cell_type": "code",
      "execution_count": null,
      "metadata": {
        "id": "fOP8i7dGaWl7",
        "outputId": "16a648e3-b605-4be9-896c-313a059f1204"
      },
      "outputs": [
        {
          "data": {
            "text/plain": [
              "[(0.36615898061813423, 'median_income'),\n",
              " (0.16478099356159054, 'INLAND'),\n",
              " (0.10879295677551575, 'pop_per_hhold'),\n",
              " (0.07334423551601243, 'longitude'),\n",
              " (0.06290907048262032, 'latitude')]"
            ]
          },
          "execution_count": 129,
          "metadata": {},
          "output_type": "execute_result"
        }
      ],
      "source": [
        "sorted(zip(feature_importances, attributes), reverse=True)[:k]"
      ]
    },
    {
      "cell_type": "markdown",
      "metadata": {
        "id": "DZ4lav5NaWl7"
      },
      "source": [
        "Looking good... Now let's create a new pipeline that runs the previously defined preparation pipeline, and adds top k feature selection:"
      ]
    },
    {
      "cell_type": "code",
      "execution_count": null,
      "metadata": {
        "id": "9V_dBMebaWl7"
      },
      "outputs": [],
      "source": [
        "preparation_and_feature_selection_pipeline = Pipeline([\n",
        "    ('preparation', full_pipeline),\n",
        "    ('feature_selection', TopFeatureSelector(feature_importances, k))\n",
        "])"
      ]
    },
    {
      "cell_type": "code",
      "execution_count": null,
      "metadata": {
        "id": "vCLhuZtmaWl7"
      },
      "outputs": [],
      "source": [
        "housing_prepared_top_k_features = preparation_and_feature_selection_pipeline.fit_transform(housing)"
      ]
    },
    {
      "cell_type": "markdown",
      "metadata": {
        "id": "PCFfwg-LaWl8"
      },
      "source": [
        "Let's look at the features of the first 3 instances:"
      ]
    },
    {
      "cell_type": "code",
      "execution_count": null,
      "metadata": {
        "id": "ZgyJWY2PaWl8",
        "outputId": "2f1e0e49-9a4b-4874-d572-2d9985c5e545"
      },
      "outputs": [
        {
          "data": {
            "text/plain": [
              "array([[-1.15604281,  0.77194962, -0.61493744, -0.08649871,  0.        ],\n",
              "       [-1.17602483,  0.6596948 ,  1.33645936, -0.03353391,  0.        ],\n",
              "       [ 1.18684903, -1.34218285, -0.5320456 , -0.09240499,  0.        ]])"
            ]
          },
          "execution_count": 132,
          "metadata": {},
          "output_type": "execute_result"
        }
      ],
      "source": [
        "housing_prepared_top_k_features[0:3]"
      ]
    },
    {
      "cell_type": "markdown",
      "metadata": {
        "id": "GJF6M_cbaWl8"
      },
      "source": [
        "Now let's double check that these are indeed the top k features:"
      ]
    },
    {
      "cell_type": "code",
      "execution_count": null,
      "metadata": {
        "id": "PCFcnodhaWl8",
        "outputId": "0a3396d7-fd0c-422e-9a08-991157b979c7"
      },
      "outputs": [
        {
          "data": {
            "text/plain": [
              "array([[-1.15604281,  0.77194962, -0.61493744, -0.08649871,  0.        ],\n",
              "       [-1.17602483,  0.6596948 ,  1.33645936, -0.03353391,  0.        ],\n",
              "       [ 1.18684903, -1.34218285, -0.5320456 , -0.09240499,  0.        ]])"
            ]
          },
          "execution_count": 133,
          "metadata": {},
          "output_type": "execute_result"
        }
      ],
      "source": [
        "housing_prepared[0:3, top_k_feature_indices]"
      ]
    },
    {
      "cell_type": "markdown",
      "metadata": {
        "id": "LEVZR0fNaWl8"
      },
      "source": [
        "Works great!  :)"
      ]
    },
    {
      "cell_type": "markdown",
      "metadata": {
        "id": "LG8OPotSaWl8"
      },
      "source": [
        "## 4."
      ]
    },
    {
      "cell_type": "markdown",
      "metadata": {
        "id": "St3JW39VaWl8"
      },
      "source": [
        "Question: Try creating a single pipeline that does the full data preparation plus the final prediction."
      ]
    },
    {
      "cell_type": "code",
      "execution_count": null,
      "metadata": {
        "id": "0NGzqFCqaWl8"
      },
      "outputs": [],
      "source": [
        "prepare_select_and_predict_pipeline = Pipeline([\n",
        "    ('preparation', full_pipeline),\n",
        "    ('feature_selection', TopFeatureSelector(feature_importances, k)),\n",
        "    ('svm_reg', SVR(**rnd_search.best_params_))\n",
        "])"
      ]
    },
    {
      "cell_type": "code",
      "execution_count": null,
      "metadata": {
        "id": "8avZaMvQaWl8",
        "outputId": "47fa38da-992e-40e8-ba2e-f6061c04324d"
      },
      "outputs": [
        {
          "data": {
            "text/plain": [
              "Pipeline(steps=[('preparation',\n",
              "                 ColumnTransformer(transformers=[('num',\n",
              "                                                  Pipeline(steps=[('imputer',\n",
              "                                                                   SimpleImputer(strategy='median')),\n",
              "                                                                  ('attribs_adder',\n",
              "                                                                   CombinedAttributesAdder()),\n",
              "                                                                  ('std_scaler',\n",
              "                                                                   StandardScaler())]),\n",
              "                                                  ['longitude', 'latitude',\n",
              "                                                   'housing_median_age',\n",
              "                                                   'total_rooms',\n",
              "                                                   'total_bedrooms',\n",
              "                                                   'population', 'households',\n",
              "                                                   'median_income']),\n",
              "                                                 ('cat', OneHotEncoder(...\n",
              "                 TopFeatureSelector(feature_importances=array([7.33442355e-02, 6.29090705e-02, 4.11437985e-02, 1.46726854e-02,\n",
              "       1.41064835e-02, 1.48742809e-02, 1.42575993e-02, 3.66158981e-01,\n",
              "       5.64191792e-02, 1.08792957e-01, 5.33510773e-02, 1.03114883e-02,\n",
              "       1.64780994e-01, 6.02803867e-05, 1.96041560e-03, 2.85647464e-03]),\n",
              "                                    k=5)),\n",
              "                ('svm_reg',\n",
              "                 SVR(C=157055.10989448498, gamma=0.26497040005002437))])"
            ]
          },
          "execution_count": 135,
          "metadata": {},
          "output_type": "execute_result"
        }
      ],
      "source": [
        "prepare_select_and_predict_pipeline.fit(housing, housing_labels)"
      ]
    },
    {
      "cell_type": "markdown",
      "metadata": {
        "id": "-uBcmhfAaWl9"
      },
      "source": [
        "Let's try the full pipeline on a few instances:"
      ]
    },
    {
      "cell_type": "code",
      "execution_count": null,
      "metadata": {
        "id": "jtCXSfcCaWl9",
        "outputId": "f5b0d872-cb9f-4a25-c3a6-339c0f466b31"
      },
      "outputs": [
        {
          "name": "stdout",
          "output_type": "stream",
          "text": [
            "Predictions:\t [203214.28978849 371846.88152572 173295.65441612  47328.3970888 ]\n",
            "Labels:\t\t [286600.0, 340600.0, 196900.0, 46300.0]\n"
          ]
        }
      ],
      "source": [
        "some_data = housing.iloc[:4]\n",
        "some_labels = housing_labels.iloc[:4]\n",
        "\n",
        "print(\"Predictions:\\t\", prepare_select_and_predict_pipeline.predict(some_data))\n",
        "print(\"Labels:\\t\\t\", list(some_labels))"
      ]
    },
    {
      "cell_type": "markdown",
      "metadata": {
        "id": "khQ1_OPiaWl9"
      },
      "source": [
        "Well, the full pipeline seems to work fine. Of course, the predictions are not fantastic: they would be better if we used the best `RandomForestRegressor` that we found earlier, rather than the best `SVR`."
      ]
    },
    {
      "cell_type": "markdown",
      "metadata": {
        "id": "N18GvOI5aWl9"
      },
      "source": [
        "## 5."
      ]
    },
    {
      "cell_type": "markdown",
      "metadata": {
        "id": "prwhFp-4aWl9"
      },
      "source": [
        "Question: Automatically explore some preparation options using `GridSearchCV`."
      ]
    },
    {
      "cell_type": "markdown",
      "metadata": {
        "id": "CXhsEi-7aWl9"
      },
      "source": [
        "**Note:** In the code below, I've set the `OneHotEncoder`'s `handle_unknown` hyperparameter to `'ignore'`, to avoid warnings during training. Without this, the `OneHotEncoder` would default to `handle_unknown='error'`, meaning that it would raise an error when transforming any data containing a category it didn't see during training. If we kept the default, then the `GridSearchCV` would run into errors during training when evaluating the folds in which not all the categories are in the training set. This is likely to happen since there's only one sample in the `'ISLAND'` category, and it may end up in the test set in some of the folds. So some folds would just be dropped by the `GridSearchCV`, and it's best to avoid that."
      ]
    },
    {
      "cell_type": "code",
      "execution_count": null,
      "metadata": {
        "id": "darcOwviaWl9",
        "outputId": "e15dd81e-a96b-47a6-fafc-77fabab6180e"
      },
      "outputs": [
        {
          "name": "stdout",
          "output_type": "stream",
          "text": [
            "Fitting 5 folds for each of 48 candidates, totalling 240 fits\n",
            "[CV] feature_selection__k=1, preparation__num__imputer__strategy=mean \n"
          ]
        },
        {
          "name": "stderr",
          "output_type": "stream",
          "text": [
            "[Parallel(n_jobs=1)]: Using backend SequentialBackend with 1 concurrent workers.\n"
          ]
        },
        {
          "name": "stdout",
          "output_type": "stream",
          "text": [
            "[CV]  feature_selection__k=1, preparation__num__imputer__strategy=mean, total=   4.2s\n",
            "[CV] feature_selection__k=1, preparation__num__imputer__strategy=mean \n"
          ]
        },
        {
          "name": "stderr",
          "output_type": "stream",
          "text": [
            "[Parallel(n_jobs=1)]: Done   1 out of   1 | elapsed:    4.2s remaining:    0.0s\n"
          ]
        },
        {
          "name": "stdout",
          "output_type": "stream",
          "text": [
            "[CV]  feature_selection__k=1, preparation__num__imputer__strategy=mean, total=   5.2s\n",
            "[CV] feature_selection__k=1, preparation__num__imputer__strategy=mean \n",
            "[CV]  feature_selection__k=1, preparation__num__imputer__strategy=mean, total=   4.7s\n",
            "[CV] feature_selection__k=1, preparation__num__imputer__strategy=mean \n",
            "[CV]  feature_selection__k=1, preparation__num__imputer__strategy=mean, total=   4.7s\n",
            "[CV] feature_selection__k=1, preparation__num__imputer__strategy=mean \n",
            "[CV]  feature_selection__k=1, preparation__num__imputer__strategy=mean, total=   4.8s\n",
            "[CV] feature_selection__k=1, preparation__num__imputer__strategy=median \n",
            "[CV]  feature_selection__k=1, preparation__num__imputer__strategy=median, total=   5.1s\n",
            "[CV] feature_selection__k=1, preparation__num__imputer__strategy=median \n",
            "[CV]  feature_selection__k=1, preparation__num__imputer__strategy=median, total=   4.9s\n",
            "[CV] feature_selection__k=1, preparation__num__imputer__strategy=median \n",
            "[CV]  feature_selection__k=1, preparation__num__imputer__strategy=median, total=   4.7s\n",
            "[CV] feature_selection__k=1, preparation__num__imputer__strategy=median \n",
            "[CV]  feature_selection__k=1, preparation__num__imputer__strategy=median, total=   4.3s\n",
            "[CV] feature_selection__k=1, preparation__num__imputer__strategy=median \n",
            "[CV]  feature_selection__k=1, preparation__num__imputer__strategy=median, total=   4.2s\n",
            "[CV] feature_selection__k=1, preparation__num__imputer__strategy=most_frequent \n",
            "[CV]  feature_selection__k=1, preparation__num__imputer__strategy=most_frequent, total=   4.6s\n",
            "[CV] feature_selection__k=1, preparation__num__imputer__strategy=most_frequent \n",
            "[CV]  feature_selection__k=1, preparation__num__imputer__strategy=most_frequent, total=   4.3s\n",
            "[CV] feature_selection__k=1, preparation__num__imputer__strategy=most_frequent \n",
            "[CV]  feature_selection__k=1, preparation__num__imputer__strategy=most_frequent, total=   4.4s\n",
            "[CV] feature_selection__k=1, preparation__num__imputer__strategy=most_frequent \n",
            "[CV]  feature_selection__k=1, preparation__num__imputer__strategy=most_frequent, total=   4.7s\n",
            "[CV] feature_selection__k=1, preparation__num__imputer__strategy=most_frequent \n",
            "[CV]  feature_selection__k=1, preparation__num__imputer__strategy=most_frequent, total=   4.8s\n",
            "[CV] feature_selection__k=2, preparation__num__imputer__strategy=mean \n",
            "[CV]  feature_selection__k=2, preparation__num__imputer__strategy=mean, total=   4.8s\n",
            "<<414 more lines>>\n",
            "[CV] feature_selection__k=15, preparation__num__imputer__strategy=most_frequent \n",
            "[CV]  feature_selection__k=15, preparation__num__imputer__strategy=most_frequent, total=  15.8s\n",
            "[CV] feature_selection__k=15, preparation__num__imputer__strategy=most_frequent \n",
            "[CV]  feature_selection__k=15, preparation__num__imputer__strategy=most_frequent, total=  19.8s\n",
            "[CV] feature_selection__k=16, preparation__num__imputer__strategy=mean \n",
            "[CV]  feature_selection__k=16, preparation__num__imputer__strategy=mean, total=  17.9s\n",
            "[CV] feature_selection__k=16, preparation__num__imputer__strategy=mean \n",
            "[CV]  feature_selection__k=16, preparation__num__imputer__strategy=mean, total=  19.2s\n",
            "[CV] feature_selection__k=16, preparation__num__imputer__strategy=mean \n",
            "[CV]  feature_selection__k=16, preparation__num__imputer__strategy=mean, total=  18.2s\n",
            "[CV] feature_selection__k=16, preparation__num__imputer__strategy=mean \n",
            "[CV]  feature_selection__k=16, preparation__num__imputer__strategy=mean, total=  19.1s\n",
            "[CV] feature_selection__k=16, preparation__num__imputer__strategy=mean \n",
            "[CV]  feature_selection__k=16, preparation__num__imputer__strategy=mean, total=  16.4s\n",
            "[CV] feature_selection__k=16, preparation__num__imputer__strategy=median \n",
            "[CV]  feature_selection__k=16, preparation__num__imputer__strategy=median, total=  17.9s\n",
            "[CV] feature_selection__k=16, preparation__num__imputer__strategy=median \n",
            "[CV]  feature_selection__k=16, preparation__num__imputer__strategy=median, total=  19.2s\n",
            "[CV] feature_selection__k=16, preparation__num__imputer__strategy=median \n",
            "[CV]  feature_selection__k=16, preparation__num__imputer__strategy=median, total=  20.5s\n",
            "[CV] feature_selection__k=16, preparation__num__imputer__strategy=median \n",
            "[CV]  feature_selection__k=16, preparation__num__imputer__strategy=median, total=  17.1s\n",
            "[CV] feature_selection__k=16, preparation__num__imputer__strategy=median \n",
            "[CV]  feature_selection__k=16, preparation__num__imputer__strategy=median, total=  20.3s\n",
            "[CV] feature_selection__k=16, preparation__num__imputer__strategy=most_frequent \n",
            "[CV]  feature_selection__k=16, preparation__num__imputer__strategy=most_frequent, total=  16.7s\n",
            "[CV] feature_selection__k=16, preparation__num__imputer__strategy=most_frequent \n",
            "[CV]  feature_selection__k=16, preparation__num__imputer__strategy=most_frequent, total=  19.4s\n",
            "[CV] feature_selection__k=16, preparation__num__imputer__strategy=most_frequent \n",
            "[CV]  feature_selection__k=16, preparation__num__imputer__strategy=most_frequent, total=  17.2s\n",
            "[CV] feature_selection__k=16, preparation__num__imputer__strategy=most_frequent \n",
            "[CV]  feature_selection__k=16, preparation__num__imputer__strategy=most_frequent, total=  17.5s\n",
            "[CV] feature_selection__k=16, preparation__num__imputer__strategy=most_frequent \n",
            "[CV]  feature_selection__k=16, preparation__num__imputer__strategy=most_frequent, total=  19.1s\n"
          ]
        },
        {
          "name": "stderr",
          "output_type": "stream",
          "text": [
            "[Parallel(n_jobs=1)]: Done 240 out of 240 | elapsed: 42.3min finished\n"
          ]
        },
        {
          "data": {
            "text/plain": [
              "GridSearchCV(cv=5,\n",
              "             estimator=Pipeline(steps=[('preparation',\n",
              "                                        ColumnTransformer(transformers=[('num',\n",
              "                                                                         Pipeline(steps=[('imputer',\n",
              "                                                                                          SimpleImputer(strategy='median')),\n",
              "                                                                                         ('attribs_adder',\n",
              "                                                                                          CombinedAttributesAdder()),\n",
              "                                                                                         ('std_scaler',\n",
              "                                                                                          StandardScaler())]),\n",
              "                                                                         ['longitude',\n",
              "                                                                          'latitude',\n",
              "                                                                          'housing_median_age',\n",
              "                                                                          'total_rooms',\n",
              "                                                                          'total_bedrooms',\n",
              "                                                                          'population',\n",
              "                                                                          'households',\n",
              "                                                                          'median_inc...\n",
              "       5.64191792e-02, 1.08792957e-01, 5.33510773e-02, 1.03114883e-02,\n",
              "       1.64780994e-01, 6.02803867e-05, 1.96041560e-03, 2.85647464e-03]),\n",
              "                                                           k=5)),\n",
              "                                       ('svm_reg',\n",
              "                                        SVR(C=157055.10989448498,\n",
              "                                            gamma=0.26497040005002437))]),\n",
              "             param_grid=[{'feature_selection__k': [1, 2, 3, 4, 5, 6, 7, 8, 9,\n",
              "                                                   10, 11, 12, 13, 14, 15, 16],\n",
              "                          'preparation__num__imputer__strategy': ['mean',\n",
              "                                                                  'median',\n",
              "                                                                  'most_frequent']}],\n",
              "             scoring='neg_mean_squared_error', verbose=2)"
            ]
          },
          "execution_count": 137,
          "metadata": {},
          "output_type": "execute_result"
        }
      ],
      "source": [
        "full_pipeline.named_transformers_[\"cat\"].handle_unknown = 'ignore'\n",
        "\n",
        "param_grid = [{\n",
        "    'preparation__num__imputer__strategy': ['mean', 'median', 'most_frequent'],\n",
        "    'feature_selection__k': list(range(1, len(feature_importances) + 1))\n",
        "}]\n",
        "\n",
        "grid_search_prep = GridSearchCV(prepare_select_and_predict_pipeline, param_grid, cv=5,\n",
        "                                scoring='neg_mean_squared_error', verbose=2)\n",
        "grid_search_prep.fit(housing, housing_labels)"
      ]
    },
    {
      "cell_type": "code",
      "execution_count": null,
      "metadata": {
        "id": "A-W0hl6naWl-",
        "outputId": "581332d7-1eff-444e-b4fa-de7c84abba29"
      },
      "outputs": [
        {
          "data": {
            "text/plain": [
              "{'feature_selection__k': 15,\n",
              " 'preparation__num__imputer__strategy': 'most_frequent'}"
            ]
          },
          "execution_count": 138,
          "metadata": {},
          "output_type": "execute_result"
        }
      ],
      "source": [
        "grid_search_prep.best_params_"
      ]
    },
    {
      "cell_type": "markdown",
      "metadata": {
        "id": "Og6ibN9vaWl-"
      },
      "source": [
        "The best imputer strategy is `most_frequent` and apparently almost all features are useful (15 out of 16). The last one (`ISLAND`) seems to just add some noise."
      ]
    }
  ]
}